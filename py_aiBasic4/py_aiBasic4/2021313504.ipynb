{
 "cells": [
  {
   "cell_type": "code",
   "execution_count": 97,
   "id": "bf33fde2",
   "metadata": {},
   "outputs": [
    {
     "name": "stdout",
     "output_type": "stream",
     "text": [
      "Epoch    0/50000 W: 0.069, b: 0.001 Cost: 7.610026\n",
      "Epoch 5000/50000 W: 0.046, b: -0.275 Cost: 0.358039\n",
      "Epoch 10000/50000 W: 0.050, b: -0.526 Cost: 0.295241\n",
      "Epoch 15000/50000 W: 0.053, b: -0.753 Cost: 0.243457\n",
      "Epoch 20000/50000 W: 0.056, b: -0.960 Cost: 0.200756\n",
      "Epoch 25000/50000 W: 0.059, b: -1.147 Cost: 0.165545\n",
      "Epoch 30000/50000 W: 0.062, b: -1.318 Cost: 0.136509\n",
      "Epoch 35000/50000 W: 0.064, b: -1.472 Cost: 0.112566\n",
      "Epoch 40000/50000 W: 0.066, b: -1.613 Cost: 0.092822\n",
      "Epoch 45000/50000 W: 0.068, b: -1.740 Cost: 0.076542\n",
      "Epoch 50000/50000 W: 0.070, b: -1.856 Cost: 0.063117\n"
     ]
    }
   ],
   "source": [
    "import torch\n",
    "import torch.optim as optim\n",
    "\n",
    "#I Set 6 rank vector, for 6 carps.\n",
    "x_train = torch.FloatTensor([[40], [50], [60], [70], [75], [80]])\n",
    "y_train = torch.FloatTensor([[0.5], [1.375], [2.25], [3.125], [3.5625], [4]])\n",
    "\n",
    "W = torch.zeros(1, requires_grad=True)\n",
    "b = torch.zeros(1, requires_grad=True)\n",
    "#Reduce lr to prevent divergence.\n",
    "optimizer = torch.optim.SGD([W, b], lr=0.0002)\n",
    "\n",
    "#For reduce cost, I increased the number of epochs.\n",
    "nb_epochs = 50000\n",
    "for epoch in range(nb_epochs + 1):\n",
    "    hypothesis = x_train * W + b\n",
    "    cost = torch.mean((hypothesis - y_train) ** 2)\n",
    "    optimizer.zero_grad()\n",
    "    cost.backward()\n",
    "    optimizer.step()\n",
    "\n",
    "    if epoch % 5000 == 0:\n",
    "        print('Epoch {:4d}/{} W: {:.3f}, b: {:.3f} Cost: {:.6f}'.format(epoch, nb_epochs, W.item(), b.item(), cost.item()))"
   ]
  },
  {
   "cell_type": "code",
   "execution_count": null,
   "id": "c9827bd5",
   "metadata": {},
   "outputs": [],
   "source": []
  }
 ],
 "metadata": {
  "kernelspec": {
   "display_name": "Python 3 (ipykernel)",
   "language": "python",
   "name": "python3"
  },
  "language_info": {
   "codemirror_mode": {
    "name": "ipython",
    "version": 3
   },
   "file_extension": ".py",
   "mimetype": "text/x-python",
   "name": "python",
   "nbconvert_exporter": "python",
   "pygments_lexer": "ipython3",
   "version": "3.9.12"
  }
 },
 "nbformat": 4,
 "nbformat_minor": 5
}
