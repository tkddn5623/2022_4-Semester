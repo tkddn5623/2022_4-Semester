{
 "cells": [
  {
   "cell_type": "code",
   "execution_count": null,
   "id": "e5f6ee75",
   "metadata": {},
   "outputs": [],
   "source": [
    "import torch\n",
    "import torch.nn as nn\n",
    "import torch.nn.functional as F\n",
    "import torch.optim as optim\n",
    "\n",
    "torch.manual_seed(1)\n",
    "\n",
    "# Q1) 6개 데이터 샘플을 training 데이터로 입력하시오. 입력값은 (키, 몸무게)(가능한 현실에 있을법한 키(cm)와 몸무게(kg) 값으로 입력하시오.), 출력값은 비만인 경우 (1) 비만이 아닌 경우는 (0)으로 표기할 것.  \n",
    "x_data =  ### to do\n",
    "y_data =  ### to do\n",
    "x_train = torch.FloatTensor(x_data)\n",
    "y_train = torch.FloatTensor(y_data)\n",
    "\n",
    "# 모델 초기화\n",
    "W = torch.zeros((2, 1), requires_grad=True)\n",
    "b = torch.zeros(1, requires_grad=True)\n",
    "\n",
    "# Q2) 학습이 진행되도록 알맞은 Optimizer, 학습률을 변경하여 입력하시오. 왜 학습률을 이렇게 하였는가 주석으로 반드시 설명하시오.\n",
    "optimizer = ### to do\n",
    "\n",
    "# Q3) 학습이 잘 진행되도록 알맞게 epoch 수를 조정 하시오. 왜 epoch 수를 이렇게 설정 하였는가 주석으로 반드시 설명하시오.\n",
    "nb_epochs = ### to do\n",
    "for epoch in range(nb_epochs + 1):\n",
    "\n",
    "    # Cost 계산\n",
    "    hypothesis = torch.sigmoid(x_train.matmul(W) + b) # or .mm or @\n",
    "    cost = -(y_train * torch.log(hypothesis) + \n",
    "             (1 - y_train) * torch.log(1 - hypothesis)).mean()\n",
    "\n",
    "    # cost로 H(x) 개선\n",
    "    optimizer.zero_grad()\n",
    "    cost.backward()\n",
    "    optimizer.step()\n",
    "\n",
    "    # 100번마다 로그 출력\n",
    "    if epoch % 100 == 0:\n",
    "        print('Epoch {:4d}/{} Cost: {:.6f}'.format(\n",
    "            epoch, nb_epochs, cost.item()\n",
    "        ))"
   ]
  }
 ],
 "metadata": {
  "kernelspec": {
   "display_name": "Python 3 (ipykernel)",
   "language": "python",
   "name": "python3"
  },
  "language_info": {
   "codemirror_mode": {
    "name": "ipython",
    "version": 3
   },
   "file_extension": ".py",
   "mimetype": "text/x-python",
   "name": "python",
   "nbconvert_exporter": "python",
   "pygments_lexer": "ipython3",
   "version": "3.9.12"
  }
 },
 "nbformat": 4,
 "nbformat_minor": 5
}
