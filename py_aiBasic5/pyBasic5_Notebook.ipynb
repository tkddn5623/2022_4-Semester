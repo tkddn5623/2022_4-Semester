{
 "cells": [
  {
   "cell_type": "code",
   "execution_count": 147,
   "id": "e5f6ee75",
   "metadata": {},
   "outputs": [
    {
     "name": "stdout",
     "output_type": "stream",
     "text": [
      "Epoch    0/15000 Cost: 0.693147\n",
      "Epoch 1000/15000 Cost: 0.156302\n",
      "Epoch 2000/15000 Cost: 0.100489\n",
      "Epoch 3000/15000 Cost: 0.076025\n",
      "Epoch 4000/15000 Cost: 0.061772\n",
      "Epoch 5000/15000 Cost: 0.052290\n",
      "Epoch 6000/15000 Cost: 0.045467\n",
      "Epoch 7000/15000 Cost: 0.040296\n",
      "Epoch 8000/15000 Cost: 0.036227\n",
      "Epoch 9000/15000 Cost: 0.032935\n",
      "Epoch 10000/15000 Cost: 0.030211\n",
      "Epoch 11000/15000 Cost: 0.027918\n",
      "Epoch 12000/15000 Cost: 0.025959\n",
      "Epoch 13000/15000 Cost: 0.024264\n",
      "Epoch 14000/15000 Cost: 0.022783\n",
      "Epoch 15000/15000 Cost: 0.021477\n"
     ]
    }
   ],
   "source": [
    "import torch\n",
    "import torch.nn as nn\n",
    "import torch.nn.functional as F\n",
    "import torch.optim as optim\n",
    "\n",
    "class BC(nn.Module):\n",
    "    def __init__(self):\n",
    "        super().__init__()\n",
    "        self.linear = nn.Linear(8, 1)\n",
    "        self.sigmoid = nn.Sigmoid()\n",
    "    def forward(self ,x):\n",
    "        return self.sigmoid(self.linear(x))\n",
    "    \n",
    "torch.manual_seed(1)\n",
    "## Q1) \n",
    "x_data =  [[170, 22], [171, 37], [170, 60], [172, 70], [172, 90], [180, 110]]\n",
    "y_data =  [[0],       [0],       [1],       [1],       [1],       [1]]\n",
    "x_train = torch.FloatTensor(x_data)\n",
    "y_train = torch.FloatTensor(y_data)\n",
    "\n",
    "# 모델 초기화\n",
    "W = torch.zeros((2, 1), requires_grad=True)\n",
    "b = torch.zeros(1, requires_grad=True)\n",
    "\n",
    "## Q2) Nan 발생을 막기위해 lr을 줄였습니다.\n",
    "optimizer = optim.SGD([W, b], lr = 0.00002)\n",
    "\n",
    "## Q3) 충분한 학습을 위해서 15000으로 늘렸습니다.\n",
    "nb_epochs = 15000\n",
    "for epoch in range(nb_epochs + 1):\n",
    "\n",
    "    # Cost 계산\n",
    "    hypothesis = torch.sigmoid(x_train.matmul(W) + b) # or .mm or @\n",
    "    cost = -(y_train * torch.log(hypothesis) + \n",
    "             (1 - y_train) * torch.log(1 - hypothesis)).mean()\n",
    "\n",
    "    # cost로 H(x) 개선\n",
    "    optimizer.zero_grad()\n",
    "    cost.backward()\n",
    "    optimizer.step()\n",
    "\n",
    "    # 1000번마다 로그 출력\n",
    "    if epoch % 1000 == 0:\n",
    "        print('Epoch {:4d}/{} Cost: {:.6f}'.format(\n",
    "            epoch, nb_epochs, cost.item()\n",
    "        ))"
   ]
  },
  {
   "cell_type": "code",
   "execution_count": 148,
   "id": "4117d39a",
   "metadata": {},
   "outputs": [
    {
     "name": "stdout",
     "output_type": "stream",
     "text": [
      "tensor([True])\n"
     ]
    }
   ],
   "source": [
    "## Q4)\n",
    "x_test = torch.FloatTensor([170, 60])\n",
    "hypothesis = torch.sigmoid(x_test.matmul(W) + b)\n",
    "cost = -(y_train * torch.log(hypothesis) + \n",
    "             (1 - y_train) * torch.log(1 - hypothesis)).mean()\n",
    "print (hypothesis >= torch.FloatTensor([0.5]))"
   ]
  }
 ],
 "metadata": {
  "kernelspec": {
   "display_name": "Python 3 (ipykernel)",
   "language": "python",
   "name": "python3"
  },
  "language_info": {
   "codemirror_mode": {
    "name": "ipython",
    "version": 3
   },
   "file_extension": ".py",
   "mimetype": "text/x-python",
   "name": "python",
   "nbconvert_exporter": "python",
   "pygments_lexer": "ipython3",
   "version": "3.9.12"
  }
 },
 "nbformat": 4,
 "nbformat_minor": 5
}
